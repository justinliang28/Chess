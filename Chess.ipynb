{
 "cells": [
  {
   "cell_type": "code",
   "execution_count": 15,
   "metadata": {
    "collapsed": true
   },
   "outputs": [],
   "source": [
    "import numpy as np\n",
    "import pandas as pd\n",
    "import random\n",
    "import matplotlib.pyplot as plt\n",
    "%matplotlib inline"
   ]
  },
  {
   "cell_type": "code",
   "execution_count": 2,
   "metadata": {
    "collapsed": true
   },
   "outputs": [],
   "source": [
    "def behaviour_policy(state, actions, state_action_value,threshold):\n",
    "    choice = random.uniform(0,1)\n",
    "    state_actions = {}\n",
    "    if choice > threshold:\n",
    "        return random.choice(actions)\n",
    "    else:\n",
    "        \n",
    "        for action in range(len(actions)):\n",
    "            try:\n",
    "                state_actions[(state,actions[action])] = state_action_value[(state,actions[action])]\n",
    "            except:\n",
    "                pass\n",
    "        try:\n",
    "            return (max(state_actions,key=state_actions.get))[1]\n",
    "        except:\n",
    "            return random.choice(actions) \n",
    "    "
   ]
  },
  {
   "cell_type": "code",
   "execution_count": 3,
   "metadata": {
    "collapsed": true
   },
   "outputs": [],
   "source": [
    "def chess_board_pandas(state):\n",
    "    d = {}\n",
    "    for i in range(8):\n",
    "        d[i] = []\n",
    "        for j in range(8):\n",
    "            if state[j][i] == '0':\n",
    "                d[i].append(' ')\n",
    "            else:\n",
    "                d[i].append(state[j][i])\n",
    "    frame = pd.DataFrame(d)\n",
    "    return frame"
   ]
  },
  {
   "cell_type": "code",
   "execution_count": 4,
   "metadata": {
    "collapsed": true
   },
   "outputs": [],
   "source": [
    "def change_player(state):\n",
    "    new_state = []\n",
    "    for i in state:\n",
    "        L = []\n",
    "        for j in i:\n",
    "            if j == '0':\n",
    "                L.insert(0,j)\n",
    "            elif j.isupper():\n",
    "                L.insert(0,j.lower())\n",
    "            else:\n",
    "                L.insert(0,j.upper())\n",
    "        new_state.insert(0,L)\n",
    "    new_state_tuple  = tuple([tuple(x) for x in new_state])\n",
    "    return new_state_tuple"
   ]
  },
  {
   "cell_type": "code",
   "execution_count": 5,
   "metadata": {
    "collapsed": true
   },
   "outputs": [],
   "source": [
    "def board_action(state,action):\n",
    "    king_alive = True\n",
    "    if state[action[3]][action[4]] == 'KING':\n",
    "        king_alive = False\n",
    "    state = [list(x) for x in state]\n",
    "\n",
    "    state[action[1]][action[2]],state[action[3]][action[4]] = '0',state[action[1]][action[2]]\n",
    "    state = tuple([tuple(x) for x in state])\n",
    "    \n",
    "    return state, king_alive"
   ]
  },
  {
   "cell_type": "code",
   "execution_count": 6,
   "metadata": {
    "collapsed": true
   },
   "outputs": [],
   "source": [
    "def action_space(chess):\n",
    "    \"\"\"\n",
    "    Input state:chess as list of lists or tuple of tuples\n",
    "    Return action space as list\n",
    "    \"\"\"\n",
    "    L = []\n",
    "    for i in range(len(chess)):\n",
    "        for j in range(len(chess[i])):\n",
    "            if chess[i][j].islower():\n",
    "                if 'rook' in chess[i][j]:\n",
    "                    k = 1\n",
    "                    try:\n",
    "                        while chess[i+k][j] == '0' or chess[i+k][j].isupper():\n",
    "                            if i+k < 0 or j < 0:\n",
    "                                break\n",
    "                            L.append((chess[i][j],i,j,i+k,j))\n",
    "                            k +=1\n",
    "                            if chess[i+k][j].isupper():\n",
    "                                break\n",
    "                    except:\n",
    "                        pass\n",
    "                    k = 1\n",
    "                    try:\n",
    "                        while chess[i-k][j] == '0' or chess[i-k][j].isupper():\n",
    "                            if i-k < 0 or j < 0:\n",
    "                                break\n",
    "                            L.append((chess[i][j],i,j,i-k,j))\n",
    "                            k +=1\n",
    "                            if chess[i-k][j].isupper():\n",
    "                                break    \n",
    "                    except:\n",
    "                        pass\n",
    "                    k = 1\n",
    "                    try:\n",
    "                        while chess[i][j+k] == '0' or chess[i][j+k].isupper():\n",
    "                            if i < o or j+k < 0:\n",
    "                                break\n",
    "                            L.append((chess[i][j],i,j,i,j+k))\n",
    "                            k +=1\n",
    "                            if chess[i][j+k].isupper():\n",
    "                                break\n",
    "                    except:\n",
    "                        pass\n",
    "                    k = 1\n",
    "                    try:\n",
    "                        while chess[i][j-k] == '0' or chess[i][j-k].isupper():\n",
    "                            if i < 0 or j-k < 0:\n",
    "                                break\n",
    "                            L.append((chess[i][j],i,j,i,j-k))\n",
    "                            k +=1\n",
    "                            if chess[i][j-k].isupper():\n",
    "                                break\n",
    "                    except:\n",
    "                        pass                    \n",
    "                elif 'knight' in chess[i][j]:\n",
    "                    X = [i+1,i+1,i+2,i+2,i-1,i-1,i-2,i-2]\n",
    "                    Y = [j+2,j-2,j+1,j-1,j+2,j-2,j+1,j-1]\n",
    "                    for k in range(len(X)):\n",
    "                        x = X[k]\n",
    "                        y = Y[k]\n",
    "                        try:\n",
    "                            if x < 0 or y < 0:\n",
    "                                pass\n",
    "                            elif chess[x][y] == '0' or chess[x][y].isupper():\n",
    "                                L.append((chess[i][j],i,j,x,y))\n",
    "                        except:\n",
    "                            pass\n",
    "                elif 'bishop' in chess[i][j]:\n",
    "                    for n in range(4):\n",
    "                        k = 1\n",
    "                        X = [i+k,i+k,i-k,i-k]\n",
    "                        Y = [j+k,j-k,j+k,j-k]\n",
    "                        x = X[n]\n",
    "                        y = Y[n]\n",
    "                        try:\n",
    "                            while chess[x][y] == '0' or chess[x][y].isupper():\n",
    "                                if x < 0 or y < 0:\n",
    "                                    break\n",
    "                                L.append((chess[i][j],i,j,x,y))\n",
    "                                k +=1\n",
    "                                X = [i+k,i+k,i-k,i-k]\n",
    "                                Y = [j+k,j-k,j+k,j-k]\n",
    "                                x = X[n]\n",
    "                                y = Y[n]\n",
    "                                if chess[x][y].isupper():\n",
    "                                    break\n",
    "                        except:\n",
    "                            pass\n",
    "                elif 'queen' in chess[i][j]:\n",
    "                    for n in range(8):\n",
    "                        k = 1\n",
    "                        X = [i+k,i+k,i-k,i-k,i,i,i+k,i-k]\n",
    "                        Y = [j+k,j-k,j+k,j-k,j+k,j-k,j,j]\n",
    "                        x = X[n]\n",
    "                        y = Y[n]\n",
    "                        try:\n",
    "                            while chess[x][y] == '0' or chess[x][y].isupper():\n",
    "                                if x < 0 or y < 0:\n",
    "                                    break\n",
    "                                L.append((chess[i][j],i,j,x,y))\n",
    "                                k +=1\n",
    "                                X = [i+k,i+k,i-k,i-k,i,i,i+k,i-k]\n",
    "                                Y = [j+k,j-k,j+k,j-k,j+k,j-k,j,j]\n",
    "                                x = X[n]\n",
    "                                y = Y[n]\n",
    "                                if chess[x][y].isupper():\n",
    "                                    break\n",
    "                        except:\n",
    "                            pass\n",
    "                elif 'king' in chess[i][j]:\n",
    "                    X = [i+1,i+1,i-1,i-1,i,i,i+1,i-1]\n",
    "                    Y = [j+1,j-1,j+1,j-1,j+1,j-1,j,j]\n",
    "                    for n in range(len(X)):\n",
    "                        k = 1\n",
    "                        x = X[n]\n",
    "                        y = Y[n]\n",
    "                        try:\n",
    "                            if chess[x][y] == '0' or chess[x][y].isupper():\n",
    "                                if x < 0 or y < 0:\n",
    "                                    pass\n",
    "                                else:\n",
    "                                    L.append((chess[i][j],i,j,x,y))\n",
    "                        except:\n",
    "                            pass\n",
    "                elif 'pawn' in chess[i][j]:\n",
    "                    try:\n",
    "                        if chess[i+1][j] == '0':\n",
    "                            if i+1 < 0 or j < 0:\n",
    "                                pass\n",
    "                            else:\n",
    "                                L.append((chess[i][j],i,j,i+1,j))\n",
    "                    except:\n",
    "                        pass\n",
    "                    try:\n",
    "                        if chess[i+1][j+1].isupper():\n",
    "                            if i+1 < 0 or j+1 < 0:\n",
    "                                pass\n",
    "                            else:\n",
    "                                L.append((chess[i][j],i,j,i+1,j+1))\n",
    "                    except:\n",
    "                        pass\n",
    "                    try:\n",
    "                        if chess[i+1][j-1].isupper():\n",
    "                            if i+1 < 0 or j-1 < 0:\n",
    "                                pass\n",
    "                            else:\n",
    "                                L.append((chess[i][j],i,j,i+1,j-1))\n",
    "                    except:\n",
    "                        pass\n",
    "    return L\n",
    "           "
   ]
  },
  {
   "cell_type": "code",
   "execution_count": 7,
   "metadata": {
    "collapsed": true
   },
   "outputs": [],
   "source": [
    "def state_action_space(state_action,state):\n",
    "    state_action[state] = action_space(state)\n",
    "    "
   ]
  },
  {
   "cell_type": "code",
   "execution_count": 8,
   "metadata": {},
   "outputs": [],
   "source": [
    "def simulation(discount,state_action_value = {},state_action = {},episodes = 10):\n",
    "    state_action_value = state_action_value\n",
    "    state_action = state_action\n",
    "    board_length = []\n",
    "    for i in range(episodes):\n",
    "        state = (('rook','knight','bishop','queen','king','bishop','knight','rook')\n",
    "        ,('pawn','pawn','pawn','pawn','pawn','pawn','pawn','pawn')\n",
    "        ,('0','0','0','0','0','0','0','0')\n",
    "        ,('0','0','0','0','0','0','0','0')\n",
    "        ,('0','0','0','0','0','0','0','0')\n",
    "        ,('0','0','0','0','0','0','0','0')\n",
    "        ,('PAWN','PAWN','PAWN','PAWN','PAWN','PAWN','PAWN','PAWN')\n",
    "        ,('ROOK','KNIGHT','BISHOP','QUEEN','KING','BISHOP','KNIGHT','ROOK'))\n",
    "        board = []\n",
    "        king_alive = True\n",
    "        player_state_action = {}\n",
    "        enemy_state_action = {}\n",
    "        dict2 = {}\n",
    "        if i % 400 == 0:\n",
    "            print(i)\n",
    "        while king_alive == True:\n",
    "            \n",
    "            try:\n",
    "                action = behaviour_policy(state,state_action[state],state_action_value,threshold = 0.99)\n",
    "            except:\n",
    "                state_action_space(state_action,state)\n",
    "                action = behaviour_policy(state,state_action[state],state_action_value,threshold = 0.99)\n",
    "            try:\n",
    "                state_action_value[(state,action)]\n",
    "            except:\n",
    "                state_action_value[(state,action)] = 0\n",
    "            if len(board) % 2 == 0:\n",
    "                player_state_action[len(player_state_action)] = (state,action) \n",
    "            else:\n",
    "                enemy_state_action[len(enemy_state_action)] = (state,action) \n",
    "            state,king_alive = board_action(state,action)\n",
    "            \n",
    "            if i == episodes - 1:\n",
    "                frame = chess_board_pandas(state)\n",
    "                if len(board) % 2 == 0:\n",
    "                    board.append(frame)\n",
    "                else:\n",
    "                    board.append(chess_board_pandas(change_player(state)))\n",
    "            else:\n",
    "                board.append(0)\n",
    "            \n",
    "            state = change_player(state)\n",
    "        l1 = len(player_state_action)\n",
    "        l2 = len(enemy_state_action)\n",
    "        if len(board) % 2 == 0:\n",
    "            state_action_value[enemy_state_action[l2-1]] = 100\n",
    "            state_action_value[player_state_action[l1-1]] = -100\n",
    "        else:\n",
    "            state_action_value[enemy_state_action[l2-1]] = -100\n",
    "            state_action_value[player_state_action[l1-1]] = 100\n",
    "        for i in range(l2 - 2,-1,-1):\n",
    "            state_action_value[enemy_state_action[i]] = discount * state_action_value[enemy_state_action[i+1]]\n",
    "        for i in range(l1-2,-1,-1):\n",
    "            state_action_value[player_state_action[i]] = discount * state_action_value[player_state_action[i+1]]\n",
    "        board_length.append(len(board))\n",
    "    return board_length, board, state_action_value, state_action"
   ]
  },
  {
   "cell_type": "code",
   "execution_count": 10,
   "metadata": {},
   "outputs": [
    {
     "name": "stdout",
     "output_type": "stream",
     "text": [
      "0\n",
      "400\n",
      "800\n",
      "1200\n",
      "1600\n"
     ]
    }
   ],
   "source": [
    "board_length, board, state_action_values,state_actions = simulation(0.95,state_action_value = {},state_action = {},episodes=2000)"
   ]
  },
  {
   "cell_type": "code",
   "execution_count": 11,
   "metadata": {},
   "outputs": [
    {
     "data": {
      "text/plain": [
       "(2000, 103, 176817, 174994)"
      ]
     },
     "execution_count": 11,
     "metadata": {},
     "output_type": "execute_result"
    }
   ],
   "source": [
    "len(board_length),len(board), len(state_action_values),len(state_actions)"
   ]
  },
  {
   "cell_type": "code",
   "execution_count": 17,
   "metadata": {},
   "outputs": [
    {
     "name": "stdout",
     "output_type": "stream",
     "text": [
      "0\n",
      "400\n",
      "800\n",
      "1200\n",
      "1600\n"
     ]
    }
   ],
   "source": [
    "board_length, board, state_action_values,state_actions = simulation(0.95,state_action_value = state_action_values,state_action = state_actions,episodes=2000)"
   ]
  },
  {
   "cell_type": "code",
   "execution_count": 18,
   "metadata": {},
   "outputs": [
    {
     "name": "stdout",
     "output_type": "stream",
     "text": [
      "0\n",
      "400\n",
      "800\n",
      "1200\n",
      "1600\n"
     ]
    }
   ],
   "source": [
    "board_length, board, state_action_values,state_actions = simulation(0.95,state_action_value = state_action_values,state_action = state_actions,episodes=2000)"
   ]
  },
  {
   "cell_type": "code",
   "execution_count": 19,
   "metadata": {},
   "outputs": [
    {
     "name": "stdout",
     "output_type": "stream",
     "text": [
      "0\n",
      "400\n",
      "800\n",
      "1200\n",
      "1600\n"
     ]
    }
   ],
   "source": [
    "board_length, board, state_action_values,state_actions = simulation(0.95,state_action_value = state_action_values,state_action = state_actions,episodes=2000)"
   ]
  },
  {
   "cell_type": "code",
   "execution_count": 20,
   "metadata": {},
   "outputs": [
    {
     "name": "stdout",
     "output_type": "stream",
     "text": [
      "0\n",
      "400\n",
      "800\n",
      "1200\n",
      "1600\n"
     ]
    }
   ],
   "source": [
    "board_length, board, state_action_values,state_actions = simulation(0.95,state_action_value = state_action_values,state_action = state_actions,episodes=2000)"
   ]
  },
  {
   "cell_type": "code",
   "execution_count": 21,
   "metadata": {},
   "outputs": [
    {
     "name": "stdout",
     "output_type": "stream",
     "text": [
      "0\n",
      "400\n",
      "800\n",
      "1200\n",
      "1600\n"
     ]
    }
   ],
   "source": [
    "board_length, board, state_action_values,state_actions = simulation(0.95,state_action_value = state_action_values,state_action = state_actions,episodes=2000)"
   ]
  },
  {
   "cell_type": "code",
   "execution_count": 22,
   "metadata": {},
   "outputs": [
    {
     "name": "stdout",
     "output_type": "stream",
     "text": [
      "0\n",
      "400\n",
      "800\n",
      "1200\n",
      "1600\n"
     ]
    }
   ],
   "source": [
    "board_length, board, state_action_values,state_actions = simulation(0.95,state_action_value = state_action_values,state_action = state_actions,episodes=2000)"
   ]
  },
  {
   "cell_type": "code",
   "execution_count": 23,
   "metadata": {},
   "outputs": [
    {
     "name": "stdout",
     "output_type": "stream",
     "text": [
      "0\n",
      "400\n",
      "800\n",
      "1200\n",
      "1600\n"
     ]
    }
   ],
   "source": [
    "board_length, board, state_action_values,state_actions = simulation(0.95,state_action_value = state_action_values,state_action = state_actions,episodes=2000)"
   ]
  },
  {
   "cell_type": "code",
   "execution_count": 24,
   "metadata": {},
   "outputs": [
    {
     "name": "stdout",
     "output_type": "stream",
     "text": [
      "0\n",
      "400\n",
      "800\n",
      "1200\n",
      "1600\n"
     ]
    }
   ],
   "source": [
    "board_length, board, state_action_values,state_actions = simulation(0.95,state_action_value = state_action_values,state_action = state_actions,episodes=2000)"
   ]
  },
  {
   "cell_type": "code",
   "execution_count": 25,
   "metadata": {},
   "outputs": [
    {
     "name": "stdout",
     "output_type": "stream",
     "text": [
      "0\n",
      "400\n",
      "800\n",
      "1200\n",
      "1600\n"
     ]
    }
   ],
   "source": [
    "board_length, board, state_action_values,state_actions = simulation(0.95,state_action_value = state_action_values,state_action = state_actions,episodes=2000)"
   ]
  },
  {
   "cell_type": "code",
   "execution_count": null,
   "metadata": {},
   "outputs": [
    {
     "name": "stdout",
     "output_type": "stream",
     "text": [
      "0\n",
      "400\n",
      "0\n",
      "400\n",
      "0\n",
      "400\n",
      "0\n",
      "400\n",
      "0\n",
      "400\n",
      "0\n"
     ]
    }
   ],
   "source": [
    "for i in range(10):\n",
    "    board_length, board, state_action_values,state_actions = simulation(0.95,state_action_value = state_action_values,state_action = state_actions,episodes=500)"
   ]
  },
  {
   "cell_type": "code",
   "execution_count": null,
   "metadata": {
    "scrolled": true
   },
   "outputs": [],
   "source": [
    "'hello'"
   ]
  },
  {
   "cell_type": "code",
   "execution_count": null,
   "metadata": {},
   "outputs": [],
   "source": [
    "len(board_length),len(board), len(state_action_values),len(state_actions)"
   ]
  },
  {
   "cell_type": "code",
   "execution_count": null,
   "metadata": {},
   "outputs": [],
   "source": [
    "\n",
    "plt.scatter(np.arange(len(board_length)),board_length)"
   ]
  },
  {
   "cell_type": "code",
   "execution_count": 57,
   "metadata": {},
   "outputs": [
    {
     "data": {
      "text/html": [
       "<div>\n",
       "<style scoped>\n",
       "    .dataframe tbody tr th:only-of-type {\n",
       "        vertical-align: middle;\n",
       "    }\n",
       "\n",
       "    .dataframe tbody tr th {\n",
       "        vertical-align: top;\n",
       "    }\n",
       "\n",
       "    .dataframe thead th {\n",
       "        text-align: right;\n",
       "    }\n",
       "</style>\n",
       "<table border=\"1\" class=\"dataframe\">\n",
       "  <thead>\n",
       "    <tr style=\"text-align: right;\">\n",
       "      <th></th>\n",
       "      <th>0</th>\n",
       "      <th>1</th>\n",
       "      <th>2</th>\n",
       "      <th>3</th>\n",
       "      <th>4</th>\n",
       "      <th>5</th>\n",
       "      <th>6</th>\n",
       "      <th>7</th>\n",
       "    </tr>\n",
       "  </thead>\n",
       "  <tbody>\n",
       "    <tr>\n",
       "      <th>0</th>\n",
       "      <td>rook</td>\n",
       "      <td></td>\n",
       "      <td></td>\n",
       "      <td></td>\n",
       "      <td></td>\n",
       "      <td></td>\n",
       "      <td></td>\n",
       "      <td></td>\n",
       "    </tr>\n",
       "    <tr>\n",
       "      <th>1</th>\n",
       "      <td></td>\n",
       "      <td></td>\n",
       "      <td></td>\n",
       "      <td></td>\n",
       "      <td></td>\n",
       "      <td></td>\n",
       "      <td></td>\n",
       "      <td></td>\n",
       "    </tr>\n",
       "    <tr>\n",
       "      <th>2</th>\n",
       "      <td>pawn</td>\n",
       "      <td>pawn</td>\n",
       "      <td>pawn</td>\n",
       "      <td></td>\n",
       "      <td>king</td>\n",
       "      <td>pawn</td>\n",
       "      <td>pawn</td>\n",
       "      <td>pawn</td>\n",
       "    </tr>\n",
       "    <tr>\n",
       "      <th>3</th>\n",
       "      <td></td>\n",
       "      <td></td>\n",
       "      <td>KNIGHT</td>\n",
       "      <td></td>\n",
       "      <td>rook</td>\n",
       "      <td></td>\n",
       "      <td></td>\n",
       "      <td></td>\n",
       "    </tr>\n",
       "    <tr>\n",
       "      <th>4</th>\n",
       "      <td></td>\n",
       "      <td>pawn</td>\n",
       "      <td></td>\n",
       "      <td>PAWN</td>\n",
       "      <td></td>\n",
       "      <td></td>\n",
       "      <td>PAWN</td>\n",
       "      <td>ROOK</td>\n",
       "    </tr>\n",
       "    <tr>\n",
       "      <th>5</th>\n",
       "      <td>PAWN</td>\n",
       "      <td></td>\n",
       "      <td></td>\n",
       "      <td></td>\n",
       "      <td>PAWN</td>\n",
       "      <td></td>\n",
       "      <td></td>\n",
       "      <td>KNIGHT</td>\n",
       "    </tr>\n",
       "    <tr>\n",
       "      <th>6</th>\n",
       "      <td></td>\n",
       "      <td>knight</td>\n",
       "      <td></td>\n",
       "      <td>BISHOP</td>\n",
       "      <td></td>\n",
       "      <td>PAWN</td>\n",
       "      <td>KING</td>\n",
       "      <td></td>\n",
       "    </tr>\n",
       "    <tr>\n",
       "      <th>7</th>\n",
       "      <td></td>\n",
       "      <td></td>\n",
       "      <td></td>\n",
       "      <td>ROOK</td>\n",
       "      <td></td>\n",
       "      <td>bishop</td>\n",
       "      <td></td>\n",
       "      <td>knight</td>\n",
       "    </tr>\n",
       "  </tbody>\n",
       "</table>\n",
       "</div>"
      ],
      "text/plain": [
       "      0       1       2       3     4       5     6       7\n",
       "0  rook                                                    \n",
       "1                                                          \n",
       "2  pawn    pawn    pawn          king    pawn  pawn    pawn\n",
       "3                KNIGHT          rook                      \n",
       "4          pawn            PAWN                PAWN    ROOK\n",
       "5  PAWN                          PAWN                KNIGHT\n",
       "6        knight          BISHOP          PAWN  KING        \n",
       "7                          ROOK        bishop        knight"
      ]
     },
     "execution_count": 57,
     "metadata": {},
     "output_type": "execute_result"
    }
   ],
   "source": [
    "board[95]"
   ]
  },
  {
   "cell_type": "code",
   "execution_count": null,
   "metadata": {
    "collapsed": true
   },
   "outputs": [],
   "source": []
  },
  {
   "cell_type": "code",
   "execution_count": null,
   "metadata": {
    "collapsed": true
   },
   "outputs": [],
   "source": [
    "np.save('my_file1.npy',state_action_values)\n",
    "np.save('my_file2.npy',state_actions)"
   ]
  },
  {
   "cell_type": "code",
   "execution_count": 9,
   "metadata": {
    "collapsed": true
   },
   "outputs": [],
   "source": [
    "state_action_values = np.load('my_file1.npy').item()\n",
    "state_actions = np.load('my_file2.npy').item()"
   ]
  }
 ],
 "metadata": {
  "kernelspec": {
   "display_name": "Python 3",
   "language": "python",
   "name": "python3"
  },
  "language_info": {
   "codemirror_mode": {
    "name": "ipython",
    "version": 3
   },
   "file_extension": ".py",
   "mimetype": "text/x-python",
   "name": "python",
   "nbconvert_exporter": "python",
   "pygments_lexer": "ipython3",
   "version": "3.5.4"
  }
 },
 "nbformat": 4,
 "nbformat_minor": 2
}
